{
 "cells": [
  {
   "cell_type": "code",
   "execution_count": 2,
   "metadata": {
    "execution": {
     "iopub.execute_input": "2021-10-17T12:49:08.788388Z",
     "iopub.status.busy": "2021-10-17T12:49:08.788075Z",
     "iopub.status.idle": "2021-10-17T12:49:08.792764Z",
     "shell.execute_reply": "2021-10-17T12:49:08.791860Z",
     "shell.execute_reply.started": "2021-10-17T12:49:08.788238Z"
    },
    "jupyter": {
     "outputs_hidden": false
    }
   },
   "outputs": [
    {
     "name": "stdout",
     "output_type": "stream",
     "text": [
      "/home/haitaowu/baidu/DANet-paddle\n"
     ]
    }
   ],
   "source": [
    "cd /home/haitaowu/baidu/DANet-paddle"
   ]
  },
  {
   "cell_type": "code",
   "execution_count": 3,
   "metadata": {},
   "outputs": [
    {
     "name": "stdout",
     "output_type": "stream",
     "text": [
      "/home/haitaowu/anaconda3/bin/python\r\n"
     ]
    }
   ],
   "source": [
    "!which python"
   ]
  },
  {
   "cell_type": "markdown",
   "metadata": {},
   "source": [
    "# 数据预处理\n",
    "unzip解压数据集<br><br>\n",
    "运行createTrainIdLabelImgs.py创建训练gt<br><br>\n",
    "运行global_config.py检查文件结构；运行dataset_preprocess.py生成数据集列表\n",
    "\n"
   ]
  },
  {
   "cell_type": "code",
   "execution_count": 3,
   "metadata": {
    "execution": {
     "iopub.execute_input": "2021-10-17T12:49:08.796203Z",
     "iopub.status.busy": "2021-10-17T12:49:08.796023Z",
     "iopub.status.idle": "2021-10-17T12:49:29.106062Z",
     "shell.execute_reply": "2021-10-17T12:49:29.105279Z",
     "shell.execute_reply.started": "2021-10-17T12:49:08.796169Z"
    },
    "jupyter": {
     "outputs_hidden": false
    }
   },
   "outputs": [
    {
     "name": "stdout",
     "output_type": "stream",
     "text": [
      "^C\n",
      "^C\n",
      "^C\n",
      "^C\n",
      "^C\n"
     ]
    }
   ],
   "source": [
    "# 解压数据集中附带的官方处理代码\n",
    "# !unzip -nq -d work/paddle/ data/cityscapesscripts.zip \n",
    "# 解压数据集中的gtFine\n",
    "!unzip -nq -d data/gtFine/ data/gtFine_train.zip\n",
    "!unzip -nq -d data/gtFine/ data/gtFine_val.zip\n",
    "!unzip -nq -d data/gtFine/ data/gtFine_test.zip\n",
    "# 解压数据集中的leftImg8bit\n",
    "!unzip -nq -d data/leftImg8bit/ data/leftImg8bit_train.zip\n",
    "!unzip -nq -d data/leftImg8bit/ data/leftImg8bit_val.zip\n",
    "!unzip -nq -d data/leftImg8bit/ data/leftImg8bit_test.zip"
   ]
  },
  {
   "cell_type": "code",
   "execution_count": 4,
   "metadata": {
    "execution": {
     "iopub.execute_input": "2021-10-17T12:49:31.421176Z",
     "iopub.status.busy": "2021-10-17T12:49:31.420846Z",
     "iopub.status.idle": "2021-10-17T12:49:32.257360Z",
     "shell.execute_reply": "2021-10-17T12:49:32.256488Z",
     "shell.execute_reply.started": "2021-10-17T12:49:31.421124Z"
    },
    "jupyter": {
     "outputs_hidden": false
    }
   },
   "outputs": [
    {
     "name": "stdout",
     "output_type": "stream",
     "text": [
      "\u001b[01;34mwork/\u001b[00m\n",
      "├── \u001b[01;34mpaddle\u001b[00m\n",
      "│   ├── \u001b[01;34mcityscapesscripts\u001b[00m\n",
      "│   │   ├── \u001b[01;34mannotation\u001b[00m\n",
      "│   │   │   ├── \u001b[01;34micons\u001b[00m\n",
      "│   │   │   └── \u001b[01;34m__pycache__\u001b[00m\n",
      "│   │   ├── \u001b[01;34mevaluation\u001b[00m\n",
      "│   │   ├── \u001b[01;34mhelpers\u001b[00m\n",
      "│   │   │   └── \u001b[01;34m__pycache__\u001b[00m\n",
      "│   │   ├── \u001b[01;34mpreparation\u001b[00m\n",
      "│   │   │   └── \u001b[01;34m__pycache__\u001b[00m\n",
      "│   │   └── \u001b[01;34mviewer\u001b[00m\n",
      "│   │       └── \u001b[01;34micons\u001b[00m\n",
      "│   └── \u001b[01;34mdanet\u001b[00m\n",
      "│       ├── \u001b[01;34mdataset\u001b[00m\n",
      "│       │   └── \u001b[01;34m__pycache__\u001b[00m\n",
      "│       ├── \u001b[01;34mmy_utils\u001b[00m\n",
      "│       │   └── \u001b[01;34m__pycache__\u001b[00m\n",
      "│       └── \u001b[01;34mnetworks\u001b[00m\n",
      "│           └── \u001b[01;34m__pycache__\u001b[00m\n",
      "└── \u001b[01;34mresult\u001b[00m\n",
      "    ├── \u001b[01;34mtxt_net\u001b[00m\n",
      "    └── \u001b[01;34mtxt_prepare\u001b[00m\n",
      "\n",
      "22 directories\n",
      "\u001b[01;34mdata/\u001b[00m\n",
      "\n",
      "0 directories\n"
     ]
    }
   ],
   "source": [
    "# 查看工作区文件夹\n",
    "!tree -d work/\n",
    "# 查看数据文件夹\n",
    "!tree -d data/"
   ]
  },
  {
   "cell_type": "code",
   "execution_count": null,
   "metadata": {
    "execution": {
     "iopub.execute_input": "2021-10-17T12:49:36.203589Z",
     "iopub.status.busy": "2021-10-17T12:49:36.203270Z"
    },
    "jupyter": {
     "outputs_hidden": false
    }
   },
   "outputs": [
    {
     "name": "stdout",
     "output_type": "stream",
     "text": [
      "Processing 3230 annotation files\n",
      "Progress: 20.309597523219814 %   "
     ]
    }
   ],
   "source": [
    "# 修改标签\n",
    "!python work/paddle/cityscapesscripts/preparation/createTrainIdLabelImgs.py"
   ]
  },
  {
   "cell_type": "code",
   "execution_count": 7,
   "metadata": {
    "execution": {
     "iopub.status.busy": "2021-10-17T12:49:29.325387Z",
     "iopub.status.idle": "2021-10-17T12:49:29.325730Z",
     "shell.execute_reply": "2021-10-17T12:49:29.325558Z"
    },
    "jupyter": {
     "outputs_hidden": false
    }
   },
   "outputs": [
    {
     "name": "stdout",
     "output_type": "stream",
     "text": [
      "pass: /home/haitaowu/baidu/DANet-paddle/work/result\n",
      "pass: /home/haitaowu/baidu/DANet-paddle/work/result/txt_prepare\n",
      "pass: /home/haitaowu/baidu/DANet-paddle/work/result/txt_net\n",
      "pass: /home/haitaowu/baidu/DANet-paddle/data\n",
      "pass: /home/haitaowu/baidu/DANet-paddle/data/leftImg8bit\n",
      "pass: /home/haitaowu/baidu/DANet-paddle/data/pre\n",
      "pass: /home/haitaowu/baidu/DANet-paddle/data/infer\n",
      "pass: /home/haitaowu/baidu/DANet-paddle/data/gtFine\n",
      "train statistic...\n",
      "Traceback (most recent call last):\n",
      "  File \"work/paddle/danet/dataset/dataset_preprocess.py\", line 45, in <module>\n",
      "    get_setCSV()\n",
      "  File \"work/paddle/danet/dataset/dataset_preprocess.py\", line 22, in get_setCSV\n",
      "    citys = os.listdir(dataImg_path)\n",
      "FileNotFoundError: [Errno 2] No such file or directory: '/home/haitaowu/baidu/DANet-paddle/data/leftImg8bit/train'\n"
     ]
    }
   ],
   "source": [
    "# 文件结构检查\n",
    "!python work/paddle/danet/my_utils/global_config.py\n",
    "# 生成数据集列表\n",
    "!python work/paddle/danet/dataset/dataset_preprocess.py"
   ]
  },
  {
   "cell_type": "markdown",
   "metadata": {},
   "source": [
    "# 网络训练\n",
    "net_train.py训练模型，模型保存到work/result/***danet.pdparams***，训练曲线保存到work/result/txt_net/**train_record.png**<br><br>\n",
    "net_test.py测试模型，混淆矩阵及miou保存到work/result/txt_net/**cfm_danet.csv**、work/result/txt_net/**test_mIoU.csv**<br><br>\n",
    "net_infer.py模型推理<br><br>\n",
    "<br>\n",
    "最终精度miou 0.40"
   ]
  },
  {
   "cell_type": "code",
   "execution_count": 12,
   "metadata": {
    "execution": {
     "iopub.execute_input": "2021-10-16T12:08:26.790348Z",
     "iopub.status.busy": "2021-10-16T12:08:26.790008Z",
     "iopub.status.idle": "2021-10-16T12:08:27.176781Z",
     "shell.execute_reply": "2021-10-16T12:08:27.176005Z",
     "shell.execute_reply.started": "2021-10-16T12:08:26.790297Z"
    },
    "jupyter": {
     "outputs_hidden": false
    }
   },
   "outputs": [
    {
     "name": "stdout",
     "output_type": "stream",
     "text": [
      "/opt/conda/envs/python35-paddle120-env/bin/python\n"
     ]
    }
   ],
   "source": [
    "!which python"
   ]
  },
  {
   "cell_type": "code",
   "execution_count": null,
   "metadata": {
    "execution": {
     "iopub.execute_input": "2021-10-16T12:08:30.112502Z",
     "iopub.status.busy": "2021-10-16T12:08:30.112152Z"
    },
    "jupyter": {
     "outputs_hidden": false
    }
   },
   "outputs": [
    {
     "name": "stdout",
     "output_type": "stream",
     "text": [
      "dataset load...\n",
      "model load...\n",
      "W1016 20:08:32.317104  9047 device_context.cc:252] Please NOTE: device: 0, CUDA Capability: 70, Driver API Version: 11.0, Runtime API Version: 9.0\n",
      "W1016 20:08:32.321872  9047 device_context.cc:260] device: 0, cuDNN Version: 7.6.\n",
      "/home/aistudio/work/result/danet reload...\n",
      "start train...\n",
      "epoch 1/240\n",
      "train: batch  54/198: acc 0.7295, loss 0.9156 [#############_____________________________________]27.3% 0.003996085;  "
     ]
    }
   ],
   "source": [
    "\n",
    "# !python work/paddle/danet/mytrain.py\n",
    "#7+1+1\n",
    "!python work/paddle/danet/net_train.py"
   ]
  },
  {
   "cell_type": "markdown",
   "metadata": {},
   "source": []
  },
  {
   "cell_type": "code",
   "execution_count": null,
   "metadata": {
    "execution": {
     "iopub.status.busy": "2021-10-17T12:49:29.332480Z",
     "iopub.status.idle": "2021-10-17T12:49:29.332766Z",
     "shell.execute_reply": "2021-10-17T12:49:29.332621Z"
    },
    "jupyter": {
     "outputs_hidden": false
    }
   },
   "outputs": [],
   "source": [
    "!python work/paddle/danet/net_test.py"
   ]
  },
  {
   "cell_type": "markdown",
   "metadata": {},
   "source": [
    "epoch7: 0.145057"
   ]
  },
  {
   "cell_type": "code",
   "execution_count": null,
   "metadata": {
    "jupyter": {
     "outputs_hidden": false
    }
   },
   "outputs": [],
   "source": [
    "# !python work/paddle/danet/net_infer.py"
   ]
  },
  {
   "cell_type": "markdown",
   "metadata": {},
   "source": [
    "\n",
    "* 数据预处理<br>\n",
    "\t* 使用Cityscapes-gtFine数据集，以8：2比例划分train、val（test）数据集<br>\n",
    "\t* train过程768*768随机crop，val、test过程768*768中心crop<br>\n",
    "\t* 自定义trainid为20类<br>\n",
    "* 网络构建：<br>\n",
    "\t* 使用resnet50作为backbone，各block输出通道数由[64, 128, 256, 512]改为[32, 64, 128, 256]<br>\n",
    "\t* CAM、PAM，input_chs由2048改为1024，inter_chs由input_chs//4改为512<br>\n",
    "\t* 输出结果包括CAM、PAM、CAM+PAM3部分<br>\n",
    "* train、val过程<br>\n",
    "\t* batch size=8<br>\n",
    "\t* epoch = 30<br>\n",
    "\t* optimizer<br>\n",
    "\t\t* Momentum，momentum=0.9，l2_decay=0.0001<br>\n",
    "\t* learning rate<br>\n",
    "\t\t* 由1e-4线性warmup至1e-1，2epoch；<br>\n",
    "\t\t* 由1e-1按(1e-1-1e-4)*((1-iter/total_iter)**0.9)+1e-4的polynomial_decay方法进行变化，30epoch（其中iter表示单个batch过程，1epoch表示所有batch过程，polynomial_decay的前两个epoch的学习率由warmup替换）<br>\n",
    "\t* loss<br>\n",
    "\t\t* softmax_with_cross_entropy<br>\n",
    "\t\t* 对CAM、PAM、CAM+PAM以0.3、0.3、0.4的比例进行加权<br>\n",
    "\t* 保存val accuracy最高、val loss最低2个模型<br>\n",
    "\t* 输出train、val过程的accuracy、loss曲线<br>\n",
    "* test过程<br>\n",
    "\t* 计算并输出混淆矩阵、各类iou、miou、fwiou等指标<br>\n",
    "* infer过程<br>\n",
    "\t* 对图像进行推理预测\n",
    "\n",
    "\n",
    "最终结果：best val acc 0.8627，miou 0.4063，fwiou 0.7784<br>\n",
    "<br>\n",
    "由于对网络进行了一些魔改，加上只进行了2次30epoch的训练，最终结果相较于论文有一定差距<br>\n",
    "<br>\n",
    "因此，本复现结果只是对danet网络认识提供一种参考，希望大家可以一起交流学习<br>"
   ]
  }
 ],
 "metadata": {
  "kernelspec": {
   "display_name": "Python 3",
   "language": "python",
   "name": "python3"
  },
  "language_info": {
   "codemirror_mode": {
    "name": "ipython",
    "version": 3
   },
   "file_extension": ".py",
   "mimetype": "text/x-python",
   "name": "python",
   "nbconvert_exporter": "python",
   "pygments_lexer": "ipython3",
   "version": "3.8.5"
  }
 },
 "nbformat": 4,
 "nbformat_minor": 4
}

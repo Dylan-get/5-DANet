{
 "cells": [
  {
   "cell_type": "code",
   "execution_count": 2,
   "id": "87f0aa8e-3543-49b6-97a6-073731c32302",
   "metadata": {
    "execution": {
     "iopub.execute_input": "2021-10-15T12:53:41.329530Z",
     "iopub.status.busy": "2021-10-15T12:53:41.328860Z",
     "iopub.status.idle": "2021-10-15T12:53:41.335419Z",
     "shell.execute_reply": "2021-10-15T12:53:41.334485Z",
     "shell.execute_reply.started": "2021-10-15T12:53:41.329257Z"
    }
   },
   "outputs": [
    {
     "name": "stdout",
     "output_type": "stream",
     "text": [
      "/home/aistudio\n"
     ]
    }
   ],
   "source": [
    "cd /home/aistudio"
   ]
  },
  {
   "cell_type": "code",
   "execution_count": 16,
   "id": "6faf7c48-aa95-4edc-8edd-6933672301ad",
   "metadata": {
    "execution": {
     "iopub.execute_input": "2021-10-15T13:08:16.954412Z",
     "iopub.status.busy": "2021-10-15T13:08:16.953888Z",
     "iopub.status.idle": "2021-10-15T13:14:32.820587Z",
     "shell.execute_reply": "2021-10-15T13:14:32.819635Z",
     "shell.execute_reply.started": "2021-10-15T13:08:16.954171Z"
    }
   },
   "outputs": [
    {
     "name": "stdout",
     "output_type": "stream",
     "text": [
      "dataset load...\n",
      "model load...\n",
      "W1015 21:08:18.846002  4127 device_context.cc:252] Please NOTE: device: 0, CUDA Capability: 70, Driver API Version: 10.1, Runtime API Version: 9.0\n",
      "W1015 21:08:18.851080  4127 device_context.cc:260] device: 0, cuDNN Version: 7.6.\n",
      "start train...\n",
      "epoch 1/3\n",
      "train: batch 401/1487: acc 0.5242, loss 1.6775 [#############_____________________________________]27.0% 0.091900736; ^C\n",
      "Traceback (most recent call last):\n",
      "  File \"work/paddle/danet/net_train.py\", line 241, in <module>\n",
      "    train()\n",
      "  File \"work/paddle/danet/net_train.py\", line 103, in train\n",
      "    pres = np.argmax(output.numpy(), axis=1)\n",
      "KeyboardInterrupt\n"
     ]
    }
   ],
   "source": [
    "!python work/paddle/danet/net_train.py"
   ]
  },
  {
   "cell_type": "markdown",
   "id": "cb80f1b9-0eaf-4ce1-9890-a0ba4c09b6cc",
   "metadata": {},
   "source": [
    "更改前：\n",
    "[4, 1024, 24, 24]\n",
    "p_out.shape [2, 20, 768, 768]\n",
    "c_out.shape [2, 20, 768, 768]\n",
    "sum_out.shape [2, 20, 768, 768]\n",
    "\n",
    "更改后：\n",
    "[4, 2048, 24, 24]\n",
    "p_out.shape [2, 20, 768, 768]\n",
    "c_out.shape [2, 20, 768, 768]\n",
    "sum_out.shape [2, 20, 768, 768]"
   ]
  }
 ],
 "metadata": {
  "kernelspec": {
   "display_name": "Python 3",
   "language": "python",
   "name": "py35-paddle1.2.0"
  },
  "language_info": {
   "codemirror_mode": {
    "name": "ipython",
    "version": 3
   },
   "file_extension": ".py",
   "mimetype": "text/x-python",
   "name": "python",
   "nbconvert_exporter": "python",
   "pygments_lexer": "ipython3",
   "version": "3.7.4"
  },
  "toc-autonumbering": true
 },
 "nbformat": 4,
 "nbformat_minor": 5
}
